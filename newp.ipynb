{
 "cells": [
  {
   "cell_type": "code",
   "execution_count": null,
   "metadata": {},
   "outputs": [
    {
     "ename": "",
     "evalue": "",
     "output_type": "error",
     "traceback": [
      "\u001b[1;31mRunning cells with 'venv' requires the ipykernel package.\n",
      "\u001b[1;31mRun the following command to install 'ipykernel' into the Python environment. \n",
      "\u001b[1;31mCommand: 'c:/Users/Pratik/Desktop/image_recom/venv/Scripts/python.exe -m pip install ipykernel -U --force-reinstall'"
     ]
    }
   ],
   "source": [
    "import requests\n",
    "import json\n",
    "end_point = \"http://127.0.0.1:5000/image_recommendation\"\n",
    "data = {\n",
    "    \"image\":\"C:\\Users\\Pratik\\Desktop\\image_recom\\tshirt.jpeg\"\n",
    "}\n",
    "payload = json.dumps(data)\n",
    "headers = {'Content-Type': 'application/json'}\n",
    "response = requests.post(end_point, data = payload, headers = headers)\n",
    "response.json()"
   ]
  }
 ],
 "metadata": {
  "kernelspec": {
   "display_name": "venv",
   "language": "python",
   "name": "python3"
  },
  "language_info": {
   "name": "python",
   "version": "3.12.0"
  }
 },
 "nbformat": 4,
 "nbformat_minor": 2
}
